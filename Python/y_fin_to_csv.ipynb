{
 "cells": [
  {
   "cell_type": "code",
   "execution_count": 12,
   "metadata": {},
   "outputs": [],
   "source": [
    "import yfinance as yf\n",
    "import pandas as pd\n",
    "from datetime import datetime, timedelta"
   ]
  },
  {
   "cell_type": "code",
   "execution_count": 13,
   "metadata": {},
   "outputs": [
    {
     "data": {
      "text/html": [
       "<div>\n",
       "<style scoped>\n",
       "    .dataframe tbody tr th:only-of-type {\n",
       "        vertical-align: middle;\n",
       "    }\n",
       "\n",
       "    .dataframe tbody tr th {\n",
       "        vertical-align: top;\n",
       "    }\n",
       "\n",
       "    .dataframe thead th {\n",
       "        text-align: right;\n",
       "    }\n",
       "</style>\n",
       "<table border=\"1\" class=\"dataframe\">\n",
       "  <thead>\n",
       "    <tr style=\"text-align: right;\">\n",
       "      <th></th>\n",
       "      <th>Open</th>\n",
       "      <th>High</th>\n",
       "      <th>Low</th>\n",
       "      <th>Close</th>\n",
       "      <th>Volume</th>\n",
       "      <th>Dividends</th>\n",
       "      <th>Stock Splits</th>\n",
       "      <th>Capital Gains</th>\n",
       "    </tr>\n",
       "    <tr>\n",
       "      <th>Date</th>\n",
       "      <th></th>\n",
       "      <th></th>\n",
       "      <th></th>\n",
       "      <th></th>\n",
       "      <th></th>\n",
       "      <th></th>\n",
       "      <th></th>\n",
       "      <th></th>\n",
       "    </tr>\n",
       "  </thead>\n",
       "  <tbody>\n",
       "    <tr>\n",
       "      <th>2010-12-27 00:00:00-05:00</th>\n",
       "      <td>97.174152</td>\n",
       "      <td>97.671167</td>\n",
       "      <td>97.104262</td>\n",
       "      <td>97.577980</td>\n",
       "      <td>58126000</td>\n",
       "      <td>0.0</td>\n",
       "      <td>0.0</td>\n",
       "      <td>0.0</td>\n",
       "    </tr>\n",
       "    <tr>\n",
       "      <th>2010-12-28 00:00:00-05:00</th>\n",
       "      <td>97.772119</td>\n",
       "      <td>97.810945</td>\n",
       "      <td>97.461484</td>\n",
       "      <td>97.717758</td>\n",
       "      <td>55309100</td>\n",
       "      <td>0.0</td>\n",
       "      <td>0.0</td>\n",
       "      <td>0.0</td>\n",
       "    </tr>\n",
       "    <tr>\n",
       "      <th>2010-12-29 00:00:00-05:00</th>\n",
       "      <td>97.834227</td>\n",
       "      <td>98.005071</td>\n",
       "      <td>97.772099</td>\n",
       "      <td>97.787628</td>\n",
       "      <td>58033100</td>\n",
       "      <td>0.0</td>\n",
       "      <td>0.0</td>\n",
       "      <td>0.0</td>\n",
       "    </tr>\n",
       "    <tr>\n",
       "      <th>2010-12-30 00:00:00-05:00</th>\n",
       "      <td>97.694445</td>\n",
       "      <td>97.950714</td>\n",
       "      <td>97.484763</td>\n",
       "      <td>97.632317</td>\n",
       "      <td>76616900</td>\n",
       "      <td>0.0</td>\n",
       "      <td>0.0</td>\n",
       "      <td>0.0</td>\n",
       "    </tr>\n",
       "    <tr>\n",
       "      <th>2010-12-31 00:00:00-05:00</th>\n",
       "      <td>97.484767</td>\n",
       "      <td>97.748809</td>\n",
       "      <td>97.329452</td>\n",
       "      <td>97.655617</td>\n",
       "      <td>91218900</td>\n",
       "      <td>0.0</td>\n",
       "      <td>0.0</td>\n",
       "      <td>0.0</td>\n",
       "    </tr>\n",
       "  </tbody>\n",
       "</table>\n",
       "</div>"
      ],
      "text/plain": [
       "                                Open       High        Low      Close  \\\n",
       "Date                                                                    \n",
       "2010-12-27 00:00:00-05:00  97.174152  97.671167  97.104262  97.577980   \n",
       "2010-12-28 00:00:00-05:00  97.772119  97.810945  97.461484  97.717758   \n",
       "2010-12-29 00:00:00-05:00  97.834227  98.005071  97.772099  97.787628   \n",
       "2010-12-30 00:00:00-05:00  97.694445  97.950714  97.484763  97.632317   \n",
       "2010-12-31 00:00:00-05:00  97.484767  97.748809  97.329452  97.655617   \n",
       "\n",
       "                             Volume  Dividends  Stock Splits  Capital Gains  \n",
       "Date                                                                         \n",
       "2010-12-27 00:00:00-05:00  58126000        0.0           0.0            0.0  \n",
       "2010-12-28 00:00:00-05:00  55309100        0.0           0.0            0.0  \n",
       "2010-12-29 00:00:00-05:00  58033100        0.0           0.0            0.0  \n",
       "2010-12-30 00:00:00-05:00  76616900        0.0           0.0            0.0  \n",
       "2010-12-31 00:00:00-05:00  91218900        0.0           0.0            0.0  "
      ]
     },
     "execution_count": 13,
     "metadata": {},
     "output_type": "execute_result"
    }
   ],
   "source": [
    "ticker = \"SPY\"\n",
    "\n",
    "td = datetime.today()\n",
    "annual_end = td - timedelta(days=5040)\n",
    "sixty_days = td - timedelta(days=59)\n",
    "# Fetch stock data\n",
    "stock = yf.Ticker(ticker)\n",
    "annualized_data = stock.history(start=annual_end.strftime('%Y-%m-%d'), end=td.strftime('%Y-%m-%d'), interval=\"1d\")\n",
    "\n",
    "annualized_data.head()"
   ]
  },
  {
   "cell_type": "code",
   "execution_count": 14,
   "metadata": {},
   "outputs": [],
   "source": [
    "annualized_data.index = annualized_data.index.date"
   ]
  },
  {
   "cell_type": "code",
   "execution_count": 15,
   "metadata": {},
   "outputs": [],
   "source": [
    "annualized_data[[\"Open\", \"High\", \"Low\", \"Close\", \"Volume\"]].to_csv(\"SPY_10_years.csv\")"
   ]
  }
 ],
 "metadata": {
  "kernelspec": {
   "display_name": "master",
   "language": "python",
   "name": "python3"
  },
  "language_info": {
   "codemirror_mode": {
    "name": "ipython",
    "version": 3
   },
   "file_extension": ".py",
   "mimetype": "text/x-python",
   "name": "python",
   "nbconvert_exporter": "python",
   "pygments_lexer": "ipython3",
   "version": "3.10.14"
  }
 },
 "nbformat": 4,
 "nbformat_minor": 2
}
